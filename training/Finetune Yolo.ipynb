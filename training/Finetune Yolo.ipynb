{
 "cells": [
  {
   "cell_type": "code",
   "execution_count": null,
   "metadata": {},
   "outputs": [],
   "source": [
    "# Train YOLO model.\n",
    "# Training data available at: https://github.com/gkyle/startrails/releases/tag/training\n",
    "# Images and labels location is configured in streaks-512.yaml file."
   ]
  },
  {
   "cell_type": "code",
   "execution_count": null,
   "metadata": {},
   "outputs": [],
   "source": [
    "import ultralytics\n",
    "from ultralytics import YOLO\n",
    "from pathlib import Path\n",
    "\n",
    "ultralytics.checks()\n",
    "\n",
    "YOLO11N_MODEL_PATH = \"../models/yolo11n-obb.pt\""
   ]
  },
  {
   "cell_type": "code",
   "execution_count": null,
   "metadata": {},
   "outputs": [],
   "source": [
    "model = YOLO(YOLO11N_MODEL_PATH)\n",
    "results = model.train(\n",
    "    data=\"./streaks-512.yaml\", epochs=200, batch=16, augment=True, imgsz=512\n",
    ")"
   ]
  },
  {
   "cell_type": "code",
   "execution_count": null,
   "metadata": {},
   "outputs": [],
   "source": [
    "shutil.copy(\n",
    "    \"{}/{}\".format(results.save_dir, \"/weights/best.pt\"),\n",
    "    \"../models/detectSteaks/streaks.pt\",\n",
    ")"
   ]
  }
 ],
 "metadata": {
  "kernelspec": {
   "display_name": "3.12.8",
   "language": "python",
   "name": "python3"
  },
  "language_info": {
   "codemirror_mode": {
    "name": "ipython",
    "version": 3
   },
   "file_extension": ".py",
   "mimetype": "text/x-python",
   "name": "python",
   "nbconvert_exporter": "python",
   "pygments_lexer": "ipython3",
   "version": "3.12.8"
  }
 },
 "nbformat": 4,
 "nbformat_minor": 2
}
