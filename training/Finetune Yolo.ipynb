{
 "cells": [
  {
   "cell_type": "code",
   "execution_count": 1,
   "metadata": {},
   "outputs": [],
   "source": [
    "# Train YOLO model.\n",
    "# Images and labels are expected in '../data/512/'.\n",
    "\n",
    "# Convert json label files to expected format.\n",
    "# Create training / validation sets."
   ]
  },
  {
   "cell_type": "code",
   "execution_count": null,
   "metadata": {},
   "outputs": [],
   "source": [
    "import ultralytics\n",
    "from ultralytics import YOLO\n",
    "ultralytics.checks()\n",
    "import glob\n",
    "from sklearn.model_selection import train_test_split\n",
    "import json\n",
    "import os\n",
    "import shutil"
   ]
  },
  {
   "cell_type": "code",
   "execution_count": 3,
   "metadata": {},
   "outputs": [],
   "source": [
    "DATASET_PATH=\"../data/512\"\n",
    "YOLO11N_MODEL_PATH = \"../models/yolo11n-obb.pt\""
   ]
  },
  {
   "cell_type": "code",
   "execution_count": null,
   "metadata": {},
   "outputs": [],
   "source": [
    "# After labelling, create datasets\n",
    "files = glob.glob(DATASET_PATH+\"/*.jpg\")\n",
    "print(DATASET_PATH+\"/*.jpg\")\n",
    "\n",
    "files_train, files_validation = train_test_split(files, test_size=0.2, random_state=1)\n",
    "print(\"Train Set:\", len(files_train))\n",
    "print(\"Validation Set:\", len(files_validation))"
   ]
  },
  {
   "cell_type": "code",
   "execution_count": 5,
   "metadata": {},
   "outputs": [],
   "source": [
    "# Convert Anylabeling label file to expected format for YOLO11\n",
    "def makeYoloConfig(fname):\n",
    "    cfg = json.load(open(fname))\n",
    "    lines = []\n",
    "    imageHeight = cfg['imageHeight']\n",
    "    imageWidth = cfg['imageWidth']\n",
    "\n",
    "    # class x_center y_center width height\n",
    "    # 0 0.5 0.2 0.1 0.1 0.2 0.3 0.3 0.2 0.1  \n",
    "    # Each line in the text file represents one object with its class label, followed by the polygon coordinates.\n",
    "    # Each polygon point is normalized x and y coordinates (between 0 and 1) relative to the image dimensions.\n",
    "    for label_idx, label in enumerate(cfg['shapes']):\n",
    "        line = ['0'] # NOTE: Assumes we only have one label. Index: 0 refers to \"streak\" in streaks-512.yaml\n",
    "        for point in label['points']:\n",
    "            line.append(point[0]/imageWidth)\n",
    "            line.append(point[1]/imageHeight)\n",
    "        lines.append(\" \".join(str(num) for num in line))\n",
    "    \n",
    "    f_out = open(fname.replace(\".json\", \".txt\"), \"w\")\n",
    "    for line in lines:\n",
    "        f_out.write(line + \"\\n\")\n",
    "    f_out.close()"
   ]
  },
  {
   "cell_type": "code",
   "execution_count": 6,
   "metadata": {},
   "outputs": [],
   "source": [
    "# Move files\n",
    "IMAGES_TRAIN_PATH = DATASET_PATH + \"/train\"\n",
    "IMAGES_Validation_PATH = DATASET_PATH + \"/validation\"\n",
    "\n",
    "shutil.rmtree(IMAGES_TRAIN_PATH, ignore_errors=True)\n",
    "shutil.rmtree(IMAGES_Validation_PATH, ignore_errors=True)\n",
    "\n",
    "os.makedirs(IMAGES_TRAIN_PATH + \"/images/\", exist_ok=True)\n",
    "os.makedirs(IMAGES_TRAIN_PATH + \"/labels/\", exist_ok=True)\n",
    "os.makedirs(IMAGES_Validation_PATH + \"/images/\", exist_ok=True)\n",
    "os.makedirs(IMAGES_Validation_PATH + \"/labels/\", exist_ok=True)\n",
    "\n",
    "for file in files_train:\n",
    "    try:\n",
    "        file_json = file.replace(\"jpg\", \"json\")\n",
    "        file_txt = file.replace(\"jpg\", \"txt\")\n",
    "        makeYoloConfig(file_json)\n",
    "        shutil.copy(file, IMAGES_TRAIN_PATH + \"/images/\")\n",
    "        shutil.copy(file_txt, IMAGES_TRAIN_PATH + \"/labels/\")\n",
    "\n",
    "    except Exception as e:\n",
    "        print(file_json)\n",
    "        print(e)\n",
    "        \n",
    "\n",
    "for file in files_validation:\n",
    "    try:\n",
    "        file_json = file.replace(\"jpg\", \"json\")\n",
    "        file_txt = file.replace(\"jpg\", \"txt\")\n",
    "        makeYoloConfig(file_json)\n",
    "        shutil.copy(file, IMAGES_Validation_PATH + \"/images/\")\n",
    "        shutil.copy(file_txt, IMAGES_Validation_PATH + \"/labels/\")\n",
    "    except Exception as e:\n",
    "        print(file_json)\n",
    "        print(e)\n",
    "\n",
    "# TODO: If we had any errors here, exclude the images so they don't count as backgrounds"
   ]
  },
  {
   "cell_type": "code",
   "execution_count": null,
   "metadata": {},
   "outputs": [],
   "source": [
    "model = YOLO(YOLO11N_MODEL_PATH)\n",
    "results = model.train(data=\"streaks-512.yaml\", epochs=200, batch=16, augment=True, imgsz=512)"
   ]
  },
  {
   "cell_type": "code",
   "execution_count": null,
   "metadata": {},
   "outputs": [],
   "source": [
    "shutil.copy(\"{}/{}\".format(results.save_dir, \"/weights/best.pt\"), \"../models/streaks.pt\")"
   ]
  }
 ],
 "metadata": {
  "kernelspec": {
   "display_name": "Python 3",
   "language": "python",
   "name": "python3"
  },
  "language_info": {
   "codemirror_mode": {
    "name": "ipython",
    "version": 3
   },
   "file_extension": ".py",
   "mimetype": "text/x-python",
   "name": "python",
   "nbconvert_exporter": "python",
   "pygments_lexer": "ipython3",
   "version": "3.12.6"
  }
 },
 "nbformat": 4,
 "nbformat_minor": 2
}
